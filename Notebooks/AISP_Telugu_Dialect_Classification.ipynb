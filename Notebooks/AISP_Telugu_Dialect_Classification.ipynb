{
 "cells": [
  {
   "cell_type": "code",
   "execution_count": null,
   "metadata": {
    "id": "ORATUivBFGtV"
   },
   "outputs": [],
   "source": [
    "import json\n",
    "import numpy as np\n",
    "from sklearn.model_selection import train_test_split\n",
    "import tensorflow.keras as keras\n",
    "import matplotlib.pyplot as plt\n",
    "\n",
    "\n",
    "DATASET_PATH = \"data.json\""
   ]
  },
  {
   "cell_type": "code",
   "execution_count": null,
   "metadata": {
    "id": "nwLt9_lvyISf"
   },
   "outputs": [],
   "source": [
    "def load_data(dataset_path):\n",
    "  with open(dataset_path,\"r\") as fp:\n",
    "    data = json.load(fp)\n",
    "\n",
    "    inputs = np.array(data['mfcc'])\n",
    "    targets = np.array(data['labels'])\n",
    "\n",
    "    return inputs, targets"
   ]
  },
  {
   "cell_type": "code",
   "execution_count": null,
   "metadata": {
    "id": "DKgsjGaIcnlL"
   },
   "outputs": [],
   "source": [
    " # load data\n",
    "X, y = load_data(DATASET_PATH)\n",
    "    # create train, validation and test split\n",
    "X_train, X_test, y_train, y_test = train_test_split(X, y, test_size=0.25)\n",
    "X_train, X_validation, y_train, y_validation = train_test_split(X_train, y_train, test_size=0.2)\n",
    "\n"
   ]
  },
  {
   "cell_type": "code",
   "execution_count": null,
   "metadata": {
    "id": "-RzluT7gDNv0"
   },
   "outputs": [],
   "source": [
    "input_shape = (X_train.shape[1],X_train.shape[2])"
   ]
  },
  {
   "cell_type": "code",
   "execution_count": null,
   "metadata": {
    "id": "K53VedHjOZDF"
   },
   "outputs": [],
   "source": [
    "model = keras.Sequential()\n",
    "\n",
    "    # 2 LSTM layers\n",
    "model.add(keras.layers.LSTM(128, input_shape=input_shape, return_sequences=True))\n",
    "model.add(keras.layers.LSTM(64))\n",
    "\n",
    "      # dense layer\n",
    "model.add(keras.layers.Dense(64, activation='relu'))\n",
    "model.add(keras.layers.Dropout(0.3))\n",
    "\n",
    "      # output layer\n",
    "model.add(keras.layers.Dense(3, activation='softmax'))"
   ]
  },
  {
   "cell_type": "code",
   "execution_count": null,
   "metadata": {
    "colab": {
     "base_uri": "https://localhost:8080/"
    },
    "id": "onzdU24teVYN",
    "outputId": "b6c722ae-448a-48e4-9986-417f6088ce68"
   },
   "outputs": [
    {
     "name": "stdout",
     "output_type": "stream",
     "text": [
      "Model: \"sequential_6\"\n",
      "_________________________________________________________________\n",
      " Layer (type)                Output Shape              Param #   \n",
      "=================================================================\n",
      " lstm_10 (LSTM)              (None, 259, 128)          72704     \n",
      "                                                                 \n",
      " lstm_11 (LSTM)              (None, 64)                49408     \n",
      "                                                                 \n",
      " dense_10 (Dense)            (None, 64)                4160      \n",
      "                                                                 \n",
      " dropout_5 (Dropout)         (None, 64)                0         \n",
      "                                                                 \n",
      " dense_11 (Dense)            (None, 3)                 195       \n",
      "                                                                 \n",
      "=================================================================\n",
      "Total params: 126,467\n",
      "Trainable params: 126,467\n",
      "Non-trainable params: 0\n",
      "_________________________________________________________________\n"
     ]
    }
   ],
   "source": [
    "optimiser = keras.optimizers.Adam(learning_rate=0.0001)\n",
    "model.compile(optimizer=optimiser,\n",
    "                  loss='sparse_categorical_crossentropy',\n",
    "                  metrics=['accuracy'])\n",
    "\n",
    "model.summary()\n"
   ]
  },
  {
   "cell_type": "code",
   "execution_count": null,
   "metadata": {
    "colab": {
     "base_uri": "https://localhost:8080/"
    },
    "id": "y1jkx78ce5b-",
    "outputId": "8418b8d6-e4ac-46ed-fe27-575f4d62b8cd"
   },
   "outputs": [
    {
     "name": "stdout",
     "output_type": "stream",
     "text": [
      "Epoch 1/30\n",
      "7/7 [==============================] - 8s 592ms/step - loss: 1.1030 - accuracy: 0.3662 - val_loss: 1.0945 - val_accuracy: 0.3148\n",
      "Epoch 2/30\n",
      "7/7 [==============================] - 3s 445ms/step - loss: 1.0482 - accuracy: 0.4977 - val_loss: 1.0697 - val_accuracy: 0.5000\n",
      "Epoch 3/30\n",
      "7/7 [==============================] - 3s 441ms/step - loss: 1.0445 - accuracy: 0.4836 - val_loss: 1.0463 - val_accuracy: 0.5556\n",
      "Epoch 4/30\n",
      "7/7 [==============================] - 3s 449ms/step - loss: 1.0326 - accuracy: 0.5117 - val_loss: 1.0239 - val_accuracy: 0.5741\n",
      "Epoch 5/30\n",
      "7/7 [==============================] - 3s 440ms/step - loss: 1.0033 - accuracy: 0.5446 - val_loss: 1.0016 - val_accuracy: 0.5741\n",
      "Epoch 6/30\n",
      "7/7 [==============================] - 3s 442ms/step - loss: 0.9945 - accuracy: 0.5587 - val_loss: 0.9788 - val_accuracy: 0.5926\n",
      "Epoch 7/30\n",
      "7/7 [==============================] - 3s 440ms/step - loss: 0.9557 - accuracy: 0.6291 - val_loss: 0.9555 - val_accuracy: 0.6296\n",
      "Epoch 8/30\n",
      "7/7 [==============================] - 3s 449ms/step - loss: 0.9415 - accuracy: 0.6103 - val_loss: 0.9358 - val_accuracy: 0.6481\n",
      "Epoch 9/30\n",
      "7/7 [==============================] - 3s 437ms/step - loss: 0.9034 - accuracy: 0.6479 - val_loss: 0.9163 - val_accuracy: 0.6667\n",
      "Epoch 10/30\n",
      "7/7 [==============================] - 3s 439ms/step - loss: 0.8823 - accuracy: 0.7183 - val_loss: 0.8901 - val_accuracy: 0.6667\n",
      "Epoch 11/30\n",
      "7/7 [==============================] - 3s 436ms/step - loss: 0.8558 - accuracy: 0.6761 - val_loss: 0.8589 - val_accuracy: 0.6667\n",
      "Epoch 12/30\n",
      "7/7 [==============================] - 3s 431ms/step - loss: 0.8072 - accuracy: 0.6854 - val_loss: 0.8226 - val_accuracy: 0.7037\n",
      "Epoch 13/30\n",
      "7/7 [==============================] - 3s 431ms/step - loss: 0.7965 - accuracy: 0.7418 - val_loss: 0.7978 - val_accuracy: 0.7222\n",
      "Epoch 14/30\n",
      "7/7 [==============================] - 3s 430ms/step - loss: 0.7581 - accuracy: 0.7418 - val_loss: 0.7741 - val_accuracy: 0.7407\n",
      "Epoch 15/30\n",
      "7/7 [==============================] - 3s 435ms/step - loss: 0.7109 - accuracy: 0.7512 - val_loss: 0.7505 - val_accuracy: 0.7407\n",
      "Epoch 16/30\n",
      "7/7 [==============================] - 3s 433ms/step - loss: 0.6683 - accuracy: 0.7981 - val_loss: 0.7208 - val_accuracy: 0.7407\n",
      "Epoch 17/30\n",
      "7/7 [==============================] - 3s 432ms/step - loss: 0.6355 - accuracy: 0.8310 - val_loss: 0.6812 - val_accuracy: 0.7593\n",
      "Epoch 18/30\n",
      "7/7 [==============================] - 3s 437ms/step - loss: 0.6030 - accuracy: 0.8310 - val_loss: 0.6421 - val_accuracy: 0.8148\n",
      "Epoch 19/30\n",
      "7/7 [==============================] - 3s 436ms/step - loss: 0.5672 - accuracy: 0.8404 - val_loss: 0.6043 - val_accuracy: 0.8148\n",
      "Epoch 20/30\n",
      "7/7 [==============================] - 3s 438ms/step - loss: 0.5411 - accuracy: 0.8404 - val_loss: 0.5438 - val_accuracy: 0.8519\n",
      "Epoch 21/30\n",
      "7/7 [==============================] - 3s 442ms/step - loss: 0.5249 - accuracy: 0.8592 - val_loss: 0.5539 - val_accuracy: 0.8148\n",
      "Epoch 22/30\n",
      "7/7 [==============================] - 3s 440ms/step - loss: 0.4627 - accuracy: 0.8779 - val_loss: 0.5131 - val_accuracy: 0.8519\n",
      "Epoch 23/30\n",
      "7/7 [==============================] - 3s 445ms/step - loss: 0.4569 - accuracy: 0.8873 - val_loss: 0.4919 - val_accuracy: 0.8519\n",
      "Epoch 24/30\n",
      "7/7 [==============================] - 3s 435ms/step - loss: 0.4145 - accuracy: 0.9061 - val_loss: 0.4784 - val_accuracy: 0.8519\n",
      "Epoch 25/30\n",
      "7/7 [==============================] - 3s 440ms/step - loss: 0.4034 - accuracy: 0.8920 - val_loss: 0.4158 - val_accuracy: 0.8704\n",
      "Epoch 26/30\n",
      "7/7 [==============================] - 3s 439ms/step - loss: 0.3707 - accuracy: 0.9061 - val_loss: 0.3967 - val_accuracy: 0.8889\n",
      "Epoch 27/30\n",
      "7/7 [==============================] - 3s 472ms/step - loss: 0.3826 - accuracy: 0.9108 - val_loss: 0.4352 - val_accuracy: 0.8704\n",
      "Epoch 28/30\n",
      "7/7 [==============================] - 3s 434ms/step - loss: 0.3250 - accuracy: 0.9014 - val_loss: 0.5251 - val_accuracy: 0.8148\n",
      "Epoch 29/30\n",
      "7/7 [==============================] - 3s 443ms/step - loss: 0.3093 - accuracy: 0.9343 - val_loss: 0.5086 - val_accuracy: 0.8704\n",
      "Epoch 30/30\n",
      "7/7 [==============================] - 3s 437ms/step - loss: 0.2863 - accuracy: 0.9249 - val_loss: 0.4828 - val_accuracy: 0.8704\n"
     ]
    }
   ],
   "source": [
    "history = model.fit(X_train, y_train, validation_data=(X_validation, y_validation), batch_size=32, epochs=30)"
   ]
  },
  {
   "cell_type": "code",
   "execution_count": null,
   "metadata": {
    "colab": {
     "base_uri": "https://localhost:8080/"
    },
    "id": "5Ue_JtrTnFvo",
    "outputId": "aae521ad-48d8-4142-a5a1-93d55bce2d2e"
   },
   "outputs": [
    {
     "name": "stdout",
     "output_type": "stream",
     "text": [
      "3/3 - 0s - loss: 0.3969 - accuracy: 0.8427 - 322ms/epoch - 107ms/step\n",
      "\n",
      "Test accuracy: 0.8426966071128845\n"
     ]
    }
   ],
   "source": [
    "test_loss, test_acc = model.evaluate(X_test, y_test, verbose=2)\n",
    "print('\\nTest accuracy:', test_acc)"
   ]
  },
  {
   "cell_type": "code",
   "execution_count": null,
   "metadata": {
    "id": "BQTMqqhGwRUE"
   },
   "outputs": [],
   "source": [
    "def plot_history(history):\n",
    "    \"\"\"Plots accuracy/loss for training/validation set as a function of the epochs\n",
    "        :param history: Training history of model\n",
    "        :return:\n",
    "    \"\"\"\n",
    "    \n",
    "    fig, axs = plt.subplots(2)\n",
    "\n",
    "    # create accuracy sublpot\n",
    "    axs[0].plot(history.history[\"accuracy\"], label=\"train accuracy\")\n",
    "    axs[0].plot(history.history[\"val_accuracy\"], label=\"test accuracy\")\n",
    "    axs[0].set_ylabel(\"Accuracy\")\n",
    "    axs[0].legend(loc=\"lower right\")\n",
    "    axs[0].set_title(\"Accuracy eval\")\n",
    "\n",
    "    # create error sublpot\n",
    "    axs[1].plot(history.history[\"loss\"], label=\"train error\")\n",
    "    axs[1].plot(history.history[\"val_loss\"], label=\"test error\")\n",
    "    axs[1].set_ylabel(\"Error\")\n",
    "    axs[1].set_xlabel(\"Epoch\")\n",
    "    axs[1].legend(loc=\"upper right\")\n",
    "    axs[1].set_title(\"Error eval\")\n",
    "\n",
    "    plt.show()"
   ]
  },
  {
   "cell_type": "code",
   "execution_count": null,
   "metadata": {
    "colab": {
     "base_uri": "https://localhost:8080/",
     "height": 295
    },
    "id": "97NhxP8Axw9o",
    "outputId": "61b9dbd9-dae1-4ad5-ace2-20d1de38a1be"
   },
   "outputs": [
    {
     "data": {
      "image/png": "[encoded data removed]",
      "text/plain": [
       "<Figure size 432x288 with 2 Axes>"
      ]
     },
     "metadata": {
      "needs_background": "light"
     },
     "output_type": "display_data"
    }
   ],
   "source": [
    "plot_history(history)"
   ]
  },
  {
   "cell_type": "code",
   "execution_count": null,
   "metadata": {
    "colab": {
     "base_uri": "https://localhost:8080/"
    },
    "id": "nzNYarEfx9JU",
    "outputId": "44e444cf-2293-400b-d49b-9bb8a0b27f09"
   },
   "outputs": [
    {
     "name": "stdout",
     "output_type": "stream",
     "text": [
      "  Classification Report:\n",
      "               precision    recall  f1-score   support\n",
      "\n",
      "           0       0.81      0.94      0.87        32\n",
      "           1       0.93      0.75      0.83        36\n",
      "           2       0.78      0.86      0.82        21\n",
      "\n",
      "    accuracy                           0.84        89\n",
      "   macro avg       0.84      0.85      0.84        89\n",
      "weighted avg       0.85      0.84      0.84        89\n",
      " \n",
      "\n"
     ]
    }
   ],
   "source": [
    "from sklearn.metrics import classification_report,confusion_matrix\n",
    "Y_pred = model.predict(X_test)\n",
    "y_pred = np.array([np.argmax(pred) for pred in Y_pred])\n",
    "print('  Classification Report:\\n',classification_report(y_test,y_pred),'\\n')"
   ]
  },
  {
   "cell_type": "code",
   "execution_count": null,
   "metadata": {
    "id": "08fzbVEUzMWE"
   },
   "outputs": [],
   "source": [
    "from sklearn.metrics import confusion_matrix\n",
    "import pandas as pd\n",
    "cm = confusion_matrix(y_test, y_pred)"
   ]
  },
  {
   "cell_type": "code",
   "execution_count": null,
   "metadata": {
    "id": "fV_ArEKZzzdi"
   },
   "outputs": [],
   "source": [
    "cm_df = pd.DataFrame(cm,\n",
    "                     index = ['COASTAL','RAYALSEEMA','TELANGANA'], \n",
    "                     columns = ['COASTAL','RAYALSEEMA','TELANGANA'])"
   ]
  },
  {
   "cell_type": "code",
   "execution_count": null,
   "metadata": {
    "colab": {
     "base_uri": "https://localhost:8080/",
     "height": 621
    },
    "id": "jNUBeVn0y2iK",
    "outputId": "7ff1e671-af6f-40a1-f031-474ab851e8b9"
   },
   "outputs": [
    {
     "data": {
      "image/png": "[encoded data removed]",
      "text/plain": [
       "<Figure size 720x720 with 2 Axes>"
      ]
     },
     "metadata": {
      "needs_background": "light"
     },
     "output_type": "display_data"
    }
   ],
   "source": [
    "import seaborn as sns\n",
    "plt.figure(figsize=(10,10))\n",
    "sns.heatmap(cm_df, annot=True)\n",
    "plt.title('Confusion Matrix')\n",
    "plt.ylabel('Actal Values')\n",
    "plt.xlabel('Predicted Values')\n",
    "plt.show()"
   ]
  }
 ],
 "metadata": {
  "colab": {
   "collapsed_sections": [],
   "name": "AISP_Telugu_Dialect_Classification.ipynb",
   "provenance": []
  },
  "kernelspec": {
   "display_name": "Python 3 (ipykernel)",
   "language": "python",
   "name": "python3"
  },
  "language_info": {
   "codemirror_mode": {
    "name": "ipython",
    "version": 3
   },
   "file_extension": ".py",
   "mimetype": "text/x-python",
   "name": "python",
   "nbconvert_exporter": "python",
   "pygments_lexer": "ipython3",
   "version": "3.10.9"
  }
 },
 "nbformat": 4,
 "nbformat_minor": 1
}
