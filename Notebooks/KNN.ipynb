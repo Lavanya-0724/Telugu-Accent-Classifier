{
 "cells": [
  {
   "cell_type": "code",
   "execution_count": 1,
   "id": "0a3326b8",
   "metadata": {},
   "outputs": [],
   "source": [
    "from sklearn.neighbors import NearestNeighbors\n",
    "from sklearn.neighbors import KNeighborsClassifier\n",
    "import sklearn\n",
    "from __future__ import print_function\n",
    "import librosa\n",
    "import numpy as np\n",
    "import matplotlib.pyplot as plt\n",
    "from librosa import display,core\n",
    "from dtw import dtw\n",
    "from numpy import linalg as LA\n",
    "from math import sqrt\n",
    "from scipy import stats\n",
    "from sklearn import svm\n",
    "from sklearn.svm import SVR\n",
    "from mlxtend.plotting import plot_decision_regions\n",
    "import matplotlib.patches as mpatches\n",
    "from sklearn.model_selection import cross_val_predict, cross_val_score,cross_validate\n",
    "from sklearn import metrics\n",
    "from mlxtend.plotting import plot_confusion_matrix\n",
    "from sklearn.metrics import confusion_matrix\n",
    "from sklearn.model_selection import train_test_split\n",
    "import time\n",
    "from sklearn.model_selection import StratifiedKFold\n",
    "\n",
    "from collections import Counter\n",
    "\n",
    "from imblearn.over_sampling import RandomOverSampler\n",
    "#%matplotlib inline"
   ]
  },
  {
   "cell_type": "code",
   "execution_count": 2,
   "id": "0fd9a081",
   "metadata": {},
   "outputs": [
    {
     "name": "stderr",
     "output_type": "stream",
     "text": [
      "C:\\Users\\Lavanya Tetakali\\AppData\\Local\\Temp\\ipykernel_23464\\4124688655.py:30: UserWarning: PySoundFile failed. Trying audioread instead.\n",
      "  a, s = librosa.load(file_path)\n",
      "C:\\Users\\Lavanya Tetakali\\AppData\\Local\\Programs\\Python\\Python310\\lib\\site-packages\\librosa\\core\\audio.py:183: FutureWarning: librosa.core.audio.__audioread_load\n",
      "\tDeprecated as of librosa version 0.10.0.\n",
      "\tIt will be removed in librosa version 1.0.\n",
      "  y, sr_native = __audioread_load(path, offset, duration, dtype)\n"
     ]
    },
    {
     "name": "stdout",
     "output_type": "stream",
     "text": [
      "317\n"
     ]
    }
   ],
   "source": [
    "import librosa\n",
    "import numpy as np\n",
    "from sklearn.model_selection import train_test_split\n",
    "import os\n",
    "\n",
    "def createTrainingData(start, end):\n",
    "    samples = []\n",
    "    telangana_dir = 'audio/Telangana'\n",
    "    coastal_dir = 'audio/Coastal'\n",
    "    rayalseema_dir = 'audio/Rayalseema'\n",
    "    \n",
    "    regions = {\n",
    "        'Telangana': telangana_dir,\n",
    "        'Coastal': coastal_dir,\n",
    "        'Rayalseema':rayalseema_dir\n",
    "    }\n",
    "\n",
    "    for region, region_dir in regions.items():\n",
    "        if region == 'Telangana':\n",
    "            file_range = range(239, 357)\n",
    "        elif region == 'Rayalseema':\n",
    "            file_range = range(116, 215)\n",
    "        elif region == 'Coastal':\n",
    "            file_range = range(1, 102)  # Assuming audio files in Coastal are named from '1.wav' to '101.wav'\n",
    "\n",
    "        for i in file_range:\n",
    "            ind = 0\n",
    "            try:\n",
    "                file_path = os.path.join(region_dir, f\"{i}.wav\")\n",
    "                a, s = librosa.load(file_path)\n",
    "            except:\n",
    "                ind = 1\n",
    "\n",
    "            if ind == 0:\n",
    "                mfcc = librosa.feature.mfcc(y=a, sr=s)\n",
    "                temp = mfcc.T[1][start:end]\n",
    "                for frame in range(10, 50):\n",
    "                    temp = np.concatenate((temp, mfcc.T[frame][start:end]))\n",
    "                samples.append([temp, region])\n",
    "\n",
    "    print(len(samples))\n",
    "    X = [i[0] for i in samples]\n",
    "    Y = [j[1] for j in samples]\n",
    "    return X, Y\n",
    "\n",
    "data, label = createTrainingData(1, 19)\n",
    "X_train, X_test, y_train, y_test = train_test_split(data, label, test_size=0.2)\n"
   ]
  },
  {
   "cell_type": "code",
   "execution_count": 3,
   "id": "63f516a0",
   "metadata": {},
   "outputs": [
    {
     "name": "stdout",
     "output_type": "stream",
     "text": [
      "[('Coastal', 87), ('Rayalseema', 87), ('Telangana', 87)]\n"
     ]
    }
   ],
   "source": [
    "X_train, X_test, y_train, y_test  = train_test_split(data,label)\n",
    "ros = RandomOverSampler(random_state=0)\n",
    "X_resampled, y_resampled = ros.fit_resample(X_train, y_train)\n",
    "print(sorted(Counter(y_resampled).items()))"
   ]
  },
  {
   "cell_type": "code",
   "execution_count": null,
   "id": "707a34bd",
   "metadata": {},
   "outputs": [],
   "source": []
  },
  {
   "cell_type": "code",
   "execution_count": 4,
   "id": "d1046ea9",
   "metadata": {},
   "outputs": [],
   "source": [
    "def predict(X,Y,Z):\n",
    "    knn = KNeighborsClassifier(n_neighbors=5)\n",
    "    knn.fit(X,Y)\n",
    "    prediction = knn.predict(Z)\n",
    "    scores = cross_val_score(knn,data,label)\n",
    "    print(scores.mean())\n",
    "    return (prediction)\n",
    "\n",
    "def printPrediction(prediction,actual_label):\n",
    "    print(\"1 -> Telangana, 0-> Coastal, 2-> Rayalseema\\n\")\n",
    "    for i in range(len(prediction)):\n",
    "        print(\"Actual ->\",actual_label[i],\" Prediction ->\",prediction[i])\n",
    "\n",
    "def accuracy(prediction,actual):\n",
    "    count=0\n",
    "    l=len(prediction)\n",
    "    for i in range(l):\n",
    "        if(prediction[i]==actual[i]):\n",
    "            count+=1\n",
    "    return count/l*100"
   ]
  },
  {
   "cell_type": "code",
   "execution_count": 5,
   "id": "79fb0753",
   "metadata": {},
   "outputs": [
    {
     "name": "stdout",
     "output_type": "stream",
     "text": [
      "0.7319444444444444\n",
      "0.7249243259429932\n",
      "\n",
      "Accuracy: 85.0\n"
     ]
    }
   ],
   "source": [
    "s= time.time()\n",
    "pred = predict(X_resampled,y_resampled,X_test)\n",
    "#printPrediction(prediction,y_train)\n",
    "print(time.time()-s)\n",
    "e = accuracy(pred,y_test)\n",
    "print(\"\\nAccuracy:\",e)"
   ]
  },
  {
   "cell_type": "code",
   "execution_count": 6,
   "id": "451bec72",
   "metadata": {},
   "outputs": [
    {
     "data": {
      "text/plain": [
       "array([[24,  1,  3],\n",
       "       [ 0, 21,  0],\n",
       "       [ 0,  8, 23]], dtype=int64)"
      ]
     },
     "execution_count": 6,
     "metadata": {},
     "output_type": "execute_result"
    }
   ],
   "source": [
    "confusion_matrix(y_test, pred)\n"
   ]
  },
  {
   "cell_type": "code",
   "execution_count": 7,
   "id": "309315e9",
   "metadata": {
    "scrolled": true
   },
   "outputs": [],
   "source": [
    "from sklearn.metrics import confusion_matrix\n",
    "\n",
    "conf_matrix = confusion_matrix(y_test, pred)\n",
    "\n",
    "# Access the elements of the confusion matrix\n",
    "tn = conf_matrix[0, 0]  # True negatives\n",
    "fp = conf_matrix[0, 1]  # False positives\n",
    "fn = conf_matrix[1, 0]  # False negatives\n",
    "tp = conf_matrix[1, 1]  # True positives"
   ]
  },
  {
   "cell_type": "code",
   "execution_count": 8,
   "id": "50fa5abe",
   "metadata": {},
   "outputs": [],
   "source": [
    "precision = round(tp/(tp+fp),4)\n",
    "recall = round(tp/(tp+fn),4)\n",
    "fmeasure = round(2*((precision*recall)/(precision+recall)),4)\n",
    "rej = round(tn/(tn+fp),4)\n",
    "acc = round((tn+tp)/(tn+tp+fp+fn),4)"
   ]
  },
  {
   "cell_type": "code",
   "execution_count": 9,
   "id": "fe3a7444",
   "metadata": {},
   "outputs": [
    {
     "name": "stdout",
     "output_type": "stream",
     "text": [
      "0.9545 1.0 0.9767 0.96 0.9783\n"
     ]
    }
   ],
   "source": [
    "print(precision,recall,fmeasure,rej,acc)"
   ]
  },
  {
   "cell_type": "code",
   "execution_count": 10,
   "id": "a9779d99",
   "metadata": {},
   "outputs": [
    {
     "data": {
      "text/plain": [
       "(0.7406205702821331, 0.1392985916890482)"
      ]
     },
     "execution_count": 10,
     "metadata": {},
     "output_type": "execute_result"
    }
   ],
   "source": [
    "knn = KNeighborsClassifier(5)\n",
    "scores = cross_val_score(knn, data, label, cv=10, scoring='f1_macro')\n",
    "scores.mean(),scores.std()   "
   ]
  },
  {
   "cell_type": "code",
   "execution_count": 11,
   "id": "d859ecfa",
   "metadata": {},
   "outputs": [
    {
     "data": {
      "image/png": "[encoded data removed]",
      "text/plain": [
       "<Figure size 1000x600 with 1 Axes>"
      ]
     },
     "metadata": {},
     "output_type": "display_data"
    }
   ],
   "source": [
    "from sklearn.metrics import roc_curve, auc\n",
    "from sklearn.preprocessing import label_binarize\n",
    "import matplotlib.pyplot as plt\n",
    "\n",
    "# Assuming 'y_test' and 'pred' contain your actual labels and predicted labels\n",
    "# Convert labels to binary (0 and 1) for one-vs-all ROC AUC curve\n",
    "y_test_bin = label_binarize(y_test, classes=['Coastal', 'Rayalseema', 'Telangana'])\n",
    "pred_bin = label_binarize(pred, classes=['Coastal', 'Rayalseema', 'Telangana'])\n",
    "\n",
    "n_classes = y_test_bin.shape[1]\n",
    "\n",
    "# Initialize variables to store the ROC curve and AUC values\n",
    "fpr = dict()\n",
    "tpr = dict()\n",
    "roc_auc = dict()\n",
    "\n",
    "for i in range(n_classes):\n",
    "    fpr[i], tpr[i], _ = roc_curve(y_test_bin[:, i], pred_bin[:, i])\n",
    "    roc_auc[i] = auc(fpr[i], tpr[i])\n",
    "\n",
    "# Plot the ROC AUC curves\n",
    "plt.figure(figsize=(10, 6))\n",
    "colors = ['b', 'g', 'r']\n",
    "for i, color in zip(range(n_classes), colors):\n",
    "    plt.plot(fpr[i], tpr[i], color=color, lw=2, label=f'ROC curve (area = {roc_auc[i]:0.2f}) for class {i}')\n",
    "\n",
    "plt.plot([0, 1], [0, 1], 'k--', lw=2)\n",
    "plt.xlim([0.0, 1.0])\n",
    "plt.ylim([0.0, 1.05])\n",
    "plt.xlabel('False Positive Rate')\n",
    "plt.ylabel('True Positive Rate')\n",
    "plt.title('Receiver Operating Characteristic (ROC) Curve')\n",
    "plt.legend(loc='lower right')\n",
    "plt.show()\n"
   ]
  },
  {
   "cell_type": "code",
   "execution_count": 12,
   "id": "e91ceb03",
   "metadata": {},
   "outputs": [
    {
     "name": "stdout",
     "output_type": "stream",
     "text": [
      "Predicted Class: ['Coastal']\n"
     ]
    }
   ],
   "source": [
    "import librosa\n",
    "import numpy as np\n",
    "from sklearn.neighbors import KNeighborsClassifier\n",
    "\n",
    "# Load the audio file\n",
    "file_path = 'audio/Coastal/1.wav'\n",
    "audio_data, sample_rate = librosa.load(file_path)\n",
    "\n",
    "# Extract MFCC features from the audio file\n",
    "mfcc = librosa.feature.mfcc(y=audio_data, sr=sample_rate)\n",
    "# Define the start and end indices for the features you want to consider\n",
    "start = 1  # Define your start index\n",
    "end = 19  # Define your end index\n",
    "\n",
    "features = []\n",
    "temp = mfcc.T[1][start:end]\n",
    "for frame in range(10, 50):\n",
    "    temp = np.concatenate((temp, mfcc.T[frame][start:end]))\n",
    "features.append(temp)\n",
    "\n",
    "# Debug: Print the extracted features to check their values\n",
    "#print(\"Extracted Features:\", features)\n",
    "\n",
    "# Assuming you have already loaded your training data and created X_resampled and y_resampled\n",
    "# Define and fit your KNN model\n",
    "knn = KNeighborsClassifier(n_neighbors=5)\n",
    "knn.fit(X_resampled, y_resampled)\n",
    "\n",
    "# Now you can use the trained KNN classifier to predict the class of the audio file\n",
    "predicted_class = knn.predict(features)\n",
    "\n",
    "# Print the predicted class\n",
    "print(\"Predicted Class:\", predicted_class)\n",
    "\n"
   ]
  },
  {
   "cell_type": "code",
   "execution_count": 13,
   "id": "b61aa97c",
   "metadata": {},
   "outputs": [
    {
     "name": "stdout",
     "output_type": "stream",
     "text": [
      "              precision    recall  f1-score   support\n",
      "\n",
      "     Coastal       1.00      0.86      0.92        28\n",
      "  Rayalseema       0.70      1.00      0.82        21\n",
      "   Telangana       0.88      0.74      0.81        31\n",
      "\n",
      "    accuracy                           0.85        80\n",
      "   macro avg       0.86      0.87      0.85        80\n",
      "weighted avg       0.88      0.85      0.85        80\n",
      "\n"
     ]
    }
   ],
   "source": [
    "from sklearn.metrics import classification_report\n",
    "\n",
    "# Assuming 'y_test' contains the true labels and 'pred' contains the predicted labels\n",
    "report = classification_report(y_test, pred)\n",
    "\n",
    "# Print the classification report\n",
    "print(report)\n"
   ]
  }
 ],
 "metadata": {
  "kernelspec": {
   "display_name": "Python 3 (ipykernel)",
   "language": "python",
   "name": "python3"
  },
  "language_info": {
   "codemirror_mode": {
    "name": "ipython",
    "version": 3
   },
   "file_extension": ".py",
   "mimetype": "text/x-python",
   "name": "python",
   "nbconvert_exporter": "python",
   "pygments_lexer": "ipython3",
   "version": "3.10.7"
  }
 },
 "nbformat": 4,
 "nbformat_minor": 5
}
