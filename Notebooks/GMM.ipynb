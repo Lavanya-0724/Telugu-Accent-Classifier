{
 "cells": [
  {
   "cell_type": "code",
   "execution_count": 1,
   "id": "28fdbb8f",
   "metadata": {},
   "outputs": [],
   "source": [
    "from sklearn.neighbors import NearestNeighbors\n",
    "from sklearn.neighbors import KNeighborsClassifier\n",
    "import sklearn\n",
    "from __future__ import print_function\n",
    "import librosa\n",
    "import numpy as np\n",
    "import matplotlib.pyplot as plt\n",
    "from librosa import display,core\n",
    "from dtw import dtw\n",
    "from numpy import linalg as LA\n",
    "from math import sqrt\n",
    "from scipy import stats\n",
    "from sklearn import svm\n",
    "from sklearn.svm import SVR\n",
    "from mlxtend.plotting import plot_decision_regions\n",
    "import matplotlib.patches as mpatches\n",
    "from sklearn.model_selection import cross_val_predict, cross_val_score,cross_validate\n",
    "from sklearn import metrics\n",
    "from sklearn.mixture import GaussianMixture\n",
    "from sklearn.model_selection import train_test_split\n",
    "#%matplotlib inline\n",
    "from sklearn.model_selection import StratifiedKFold\n",
    "from mlxtend.plotting import plot_confusion_matrix\n",
    "from collections import Counter\n",
    "from sklearn.metrics import confusion_matrix\n",
    "\n",
    "from imblearn.over_sampling import RandomOverSampler"
   ]
  },
  {
   "cell_type": "code",
   "execution_count": 2,
   "id": "17c63342",
   "metadata": {},
   "outputs": [],
   "source": [
    "def accuracy(prediction,actual):\n",
    "    count=0\n",
    "    l=len(prediction)\n",
    "    for i in range(l):\n",
    "        if(prediction[i]==actual[i]):\n",
    "            count+=1\n",
    "    return count/l*100"
   ]
  },
  {
   "cell_type": "code",
   "execution_count": 3,
   "id": "2999c009",
   "metadata": {},
   "outputs": [
    {
     "name": "stderr",
     "output_type": "stream",
     "text": [
      "C:\\Users\\Lavanya Tetakali\\AppData\\Local\\Temp\\ipykernel_29316\\4124688655.py:30: UserWarning: PySoundFile failed. Trying audioread instead.\n",
      "  a, s = librosa.load(file_path)\n",
      "C:\\Users\\Lavanya Tetakali\\AppData\\Local\\Programs\\Python\\Python310\\lib\\site-packages\\librosa\\core\\audio.py:183: FutureWarning: librosa.core.audio.__audioread_load\n",
      "\tDeprecated as of librosa version 0.10.0.\n",
      "\tIt will be removed in librosa version 1.0.\n",
      "  y, sr_native = __audioread_load(path, offset, duration, dtype)\n"
     ]
    },
    {
     "name": "stdout",
     "output_type": "stream",
     "text": [
      "317\n"
     ]
    }
   ],
   "source": [
    "import librosa\n",
    "import numpy as np\n",
    "from sklearn.model_selection import train_test_split\n",
    "import os\n",
    "\n",
    "def createTrainingData(start, end):\n",
    "    samples = []\n",
    "    telangana_dir = 'audio/Telangana'\n",
    "    coastal_dir = 'audio/Coastal'\n",
    "    rayalseema_dir = 'audio/Rayalseema'\n",
    "    \n",
    "    regions = {\n",
    "        'Telangana': telangana_dir,\n",
    "        'Coastal': coastal_dir,\n",
    "        'Rayalseema':rayalseema_dir\n",
    "    }\n",
    "\n",
    "    for region, region_dir in regions.items():\n",
    "        if region == 'Telangana':\n",
    "            file_range = range(239, 357)\n",
    "        elif region == 'Rayalseema':\n",
    "            file_range = range(116, 215)\n",
    "        elif region == 'Coastal':\n",
    "            file_range = range(1, 102)  # Assuming audio files in Coastal are named from '1.wav' to '101.wav'\n",
    "\n",
    "        for i in file_range:\n",
    "            ind = 0\n",
    "            try:\n",
    "                file_path = os.path.join(region_dir, f\"{i}.wav\")\n",
    "                a, s = librosa.load(file_path)\n",
    "            except:\n",
    "                ind = 1\n",
    "\n",
    "            if ind == 0:\n",
    "                mfcc = librosa.feature.mfcc(y=a, sr=s)\n",
    "                temp = mfcc.T[1][start:end]\n",
    "                for frame in range(10, 50):\n",
    "                    temp = np.concatenate((temp, mfcc.T[frame][start:end]))\n",
    "                samples.append([temp, region])\n",
    "\n",
    "    print(len(samples))\n",
    "    X = [i[0] for i in samples]\n",
    "    Y = [j[1] for j in samples]\n",
    "    return X, Y\n",
    "\n",
    "data, label = createTrainingData(1, 19)\n",
    "X_train, X_test, y_train, y_test = train_test_split(data, label, test_size=0.2)\n"
   ]
  },
  {
   "cell_type": "code",
   "execution_count": 4,
   "id": "03c40d94",
   "metadata": {},
   "outputs": [
    {
     "name": "stdout",
     "output_type": "stream",
     "text": [
      "[('Coastal', 93), ('Rayalseema', 93), ('Telangana', 93)]\n"
     ]
    }
   ],
   "source": [
    "X_train, X_test, y_train, y_test  = train_test_split(data,label)\n",
    "ros = RandomOverSampler(random_state=0)\n",
    "X_resampled, y_resampled = ros.fit_resample(X_train, y_train)\n",
    "print(sorted(Counter(y_resampled).items()))"
   ]
  },
  {
   "cell_type": "code",
   "execution_count": 5,
   "id": "9461e353",
   "metadata": {},
   "outputs": [],
   "source": [
    "n_components = 3  # or a higher number\n",
    "gmm = GaussianMixture(n_components=n_components)\n",
    "\n",
    "g = GaussianMixture(2)\n",
    "g.fit(X_resampled)\n",
    "pred = g.predict(X_test)"
   ]
  },
  {
   "cell_type": "code",
   "execution_count": 6,
   "id": "b60325fd",
   "metadata": {},
   "outputs": [
    {
     "data": {
      "text/plain": [
       "array([[30,  0,  0],\n",
       "       [24,  1,  0],\n",
       "       [25,  0,  0]], dtype=int64)"
      ]
     },
     "execution_count": 6,
     "metadata": {},
     "output_type": "execute_result"
    }
   ],
   "source": [
    "from sklearn.preprocessing import LabelEncoder\n",
    "\n",
    "# Initialize the label encoder\n",
    "label_encoder = LabelEncoder()\n",
    "\n",
    "# Fit the label encoder on the unique labels in y_test\n",
    "label_encoder.fit(y_test)\n",
    "\n",
    "# Transform y_test to numeric labels\n",
    "y_test_numeric = label_encoder.transform(y_test)\n",
    "\n",
    "# Now, you can calculate the confusion matrix\n",
    "conf_matrix = confusion_matrix(y_test_numeric, pred)\n",
    "conf_matrix"
   ]
  },
  {
   "cell_type": "code",
   "execution_count": 7,
   "id": "45367e2f",
   "metadata": {},
   "outputs": [
    {
     "name": "stdout",
     "output_type": "stream",
     "text": [
      "[[30  0  0]\n",
      " [24  1  0]\n",
      " [25  0  0]]\n"
     ]
    }
   ],
   "source": [
    "from sklearn.metrics import confusion_matrix\n",
    "\n",
    "# Initialize the label encoder\n",
    "label_encoder = LabelEncoder()\n",
    "\n",
    "# Fit the label encoder on the unique labels in y_test\n",
    "label_encoder.fit(y_test)\n",
    "\n",
    "# Transform y_test to numeric labels\n",
    "y_test_numeric = label_encoder.transform(y_test)\n",
    "\n",
    "# Now, you can calculate the confusion matrix\n",
    "conf_matrix = confusion_matrix(y_test_numeric, pred)\n",
    "print(conf_matrix)\n",
    "# Access the elements of the confusion matrix\n",
    "tn = conf_matrix[0, 0]  # True negatives\n",
    "fp = conf_matrix[0, 1]  # False positives\n",
    "fn = conf_matrix[1, 0]  # False negatives\n",
    "tp = conf_matrix[1, 1]  # True positives"
   ]
  },
  {
   "cell_type": "code",
   "execution_count": 8,
   "id": "eb248d59",
   "metadata": {},
   "outputs": [],
   "source": [
    "precision = round(tp/(tp+fp),4)\n",
    "recall = round(tp/(tp+fn),4)\n",
    "fmeasure = round(2*((precision*recall)/(precision+recall)),4)\n",
    "rej = round(tn/(tn+fp),4)\n",
    "acc = round((tn+tp)/(tn+tp+fp+fn),4)"
   ]
  },
  {
   "cell_type": "code",
   "execution_count": 9,
   "id": "207ed05d",
   "metadata": {},
   "outputs": [
    {
     "name": "stdout",
     "output_type": "stream",
     "text": [
      "Accuracy: 0.0\n",
      "1.0 0.04 0.0769 1.0 0.5636\n"
     ]
    }
   ],
   "source": [
    "accuracy = accuracy(pred,y_test)\n",
    "print(\"Accuracy:\", accuracy)\n",
    "\n",
    "print(precision,recall,fmeasure,rej,acc)\n"
   ]
  },
  {
   "cell_type": "code",
   "execution_count": 10,
   "id": "a1be99b7",
   "metadata": {},
   "outputs": [
    {
     "name": "stderr",
     "output_type": "stream",
     "text": [
      "C:\\Users\\Lavanya Tetakali\\AppData\\Local\\Programs\\Python\\Python310\\lib\\site-packages\\numpy\\lib\\arraysetops.py:733: FutureWarning: elementwise comparison failed; returning scalar instead, but in the future will perform elementwise comparison\n",
      "  mask |= (ar1 == a)\n"
     ]
    },
    {
     "data": {
      "image/png": "[encoded data removed]",
      "text/plain": [
       "<Figure size 1000x600 with 1 Axes>"
      ]
     },
     "metadata": {},
     "output_type": "display_data"
    }
   ],
   "source": [
    "from sklearn.metrics import roc_curve, auc\n",
    "from sklearn.preprocessing import label_binarize\n",
    "import matplotlib.pyplot as plt\n",
    "\n",
    "# Assuming 'y_test' and 'pred' contain your actual labels and predicted labels\n",
    "# Convert labels to binary (0 and 1) for one-vs-all ROC AUC curve\n",
    "y_test_bin = label_binarize(y_test, classes=['Coastal', 'Rayalseema', 'Telangana'])\n",
    "pred_bin = label_binarize(pred, classes=['Coastal', 'Rayalseema', 'Telangana'])\n",
    "\n",
    "n_classes = y_test_bin.shape[1]\n",
    "\n",
    "# Initialize variables to store the ROC curve and AUC values\n",
    "fpr = dict()\n",
    "tpr = dict()\n",
    "roc_auc = dict()\n",
    "\n",
    "for i in range(n_classes):\n",
    "    fpr[i], tpr[i], _ = roc_curve(y_test_bin[:, i], pred_bin[:, i])\n",
    "    roc_auc[i] = auc(fpr[i], tpr[i])\n",
    "\n",
    "# Plot the ROC AUC curves\n",
    "plt.figure(figsize=(10, 6))\n",
    "colors = ['b', 'g', 'r']\n",
    "for i, color in zip(range(n_classes), colors):\n",
    "    plt.plot(fpr[i], tpr[i], color=color, lw=2, label=f'ROC curve (area = {roc_auc[i]:0.2f}) for class {i}')\n",
    "\n",
    "plt.plot([0, 1], [0, 1], 'k--', lw=2)\n",
    "plt.xlim([0.0, 1.0])\n",
    "plt.ylim([0.0, 1.05])\n",
    "plt.xlabel('False Positive Rate')\n",
    "plt.ylabel('True Positive Rate')\n",
    "plt.title('Receiver Operating Characteristic (ROC) Curve')\n",
    "plt.legend(loc='lower right')\n",
    "plt.show()\n"
   ]
  },
  {
   "cell_type": "code",
   "execution_count": 11,
   "id": "4f47fb75",
   "metadata": {},
   "outputs": [
    {
     "name": "stdout",
     "output_type": "stream",
     "text": [
      "Unique Predicted Classes: [0 1]\n"
     ]
    }
   ],
   "source": [
    "print(\"Unique Predicted Classes:\", np.unique(pred))\n"
   ]
  },
  {
   "cell_type": "code",
   "execution_count": 12,
   "id": "c1c29c14",
   "metadata": {},
   "outputs": [
    {
     "name": "stdout",
     "output_type": "stream",
     "text": [
      "Unique Predicted Classes: [0 1]\n",
      "Unique Classes in y_test: ['Coastal' 'Rayalseema' 'Telangana']\n",
      "Class Distribution in y_test: Counter({'Coastal': 30, 'Telangana': 25, 'Rayalseema': 25})\n",
      "Class Distribution in pred: Counter({0: 79, 1: 1})\n"
     ]
    }
   ],
   "source": [
    "# Check for Predicted Classes\n",
    "print(\"Unique Predicted Classes:\", np.unique(pred))\n",
    "\n",
    "# Check for Label Encoding\n",
    "print(\"Unique Classes in y_test:\", np.unique(y_test))\n",
    "\n",
    "# Check for Class Imbalance\n",
    "print(\"Class Distribution in y_test:\", Counter(y_test))\n",
    "print(\"Class Distribution in pred:\", Counter(pred))\n",
    "\n",
    "# Check for Data Quality\n",
    "# Optionally, inspect a few samples in X_test and y_test to ensure data integrity.\n",
    "\n"
   ]
  },
  {
   "cell_type": "code",
   "execution_count": 13,
   "id": "4b75c9c7",
   "metadata": {},
   "outputs": [
    {
     "name": "stdout",
     "output_type": "stream",
     "text": [
      "Shape of X_train: (237, 738)\n",
      "Shape of y_train: (237,)\n"
     ]
    }
   ],
   "source": [
    "print(\"Shape of X_train:\", np.shape(X_train))\n",
    "print(\"Shape of y_train:\", np.shape(y_train))\n"
   ]
  },
  {
   "cell_type": "code",
   "execution_count": 15,
   "id": "e1baebf0",
   "metadata": {
    "scrolled": true
   },
   "outputs": [
    {
     "ename": "ValueError",
     "evalue": "Mix of label input types (string and number)",
     "output_type": "error",
     "traceback": [
      "\u001b[1;31m---------------------------------------------------------------------------\u001b[0m",
      "\u001b[1;31mValueError\u001b[0m                                Traceback (most recent call last)",
      "Cell \u001b[1;32mIn[15], line 4\u001b[0m\n\u001b[0;32m      1\u001b[0m \u001b[38;5;28;01mfrom\u001b[39;00m \u001b[38;5;21;01msklearn\u001b[39;00m\u001b[38;5;21;01m.\u001b[39;00m\u001b[38;5;21;01mmetrics\u001b[39;00m \u001b[38;5;28;01mimport\u001b[39;00m classification_report\n\u001b[0;32m      3\u001b[0m \u001b[38;5;66;03m# Assuming 'y_test' contains the true labels and 'pred' contains the predicted labels\u001b[39;00m\n\u001b[1;32m----> 4\u001b[0m report \u001b[38;5;241m=\u001b[39m \u001b[43mclassification_report\u001b[49m\u001b[43m(\u001b[49m\u001b[43my_test\u001b[49m\u001b[43m,\u001b[49m\u001b[43m \u001b[49m\u001b[43mpred\u001b[49m\u001b[43m)\u001b[49m\n\u001b[0;32m      6\u001b[0m \u001b[38;5;66;03m# Print the classification report\u001b[39;00m\n\u001b[0;32m      7\u001b[0m \u001b[38;5;28mprint\u001b[39m(report)\n",
      "File \u001b[1;32m~\\AppData\\Local\\Programs\\Python\\Python310\\lib\\site-packages\\sklearn\\utils\\_param_validation.py:213\u001b[0m, in \u001b[0;36mvalidate_params.<locals>.decorator.<locals>.wrapper\u001b[1;34m(*args, **kwargs)\u001b[0m\n\u001b[0;32m    207\u001b[0m \u001b[38;5;28;01mtry\u001b[39;00m:\n\u001b[0;32m    208\u001b[0m     \u001b[38;5;28;01mwith\u001b[39;00m config_context(\n\u001b[0;32m    209\u001b[0m         skip_parameter_validation\u001b[38;5;241m=\u001b[39m(\n\u001b[0;32m    210\u001b[0m             prefer_skip_nested_validation \u001b[38;5;129;01mor\u001b[39;00m global_skip_validation\n\u001b[0;32m    211\u001b[0m         )\n\u001b[0;32m    212\u001b[0m     ):\n\u001b[1;32m--> 213\u001b[0m         \u001b[38;5;28;01mreturn\u001b[39;00m func(\u001b[38;5;241m*\u001b[39margs, \u001b[38;5;241m*\u001b[39m\u001b[38;5;241m*\u001b[39mkwargs)\n\u001b[0;32m    214\u001b[0m \u001b[38;5;28;01mexcept\u001b[39;00m InvalidParameterError \u001b[38;5;28;01mas\u001b[39;00m e:\n\u001b[0;32m    215\u001b[0m     \u001b[38;5;66;03m# When the function is just a wrapper around an estimator, we allow\u001b[39;00m\n\u001b[0;32m    216\u001b[0m     \u001b[38;5;66;03m# the function to delegate validation to the estimator, but we replace\u001b[39;00m\n\u001b[0;32m    217\u001b[0m     \u001b[38;5;66;03m# the name of the estimator by the name of the function in the error\u001b[39;00m\n\u001b[0;32m    218\u001b[0m     \u001b[38;5;66;03m# message to avoid confusion.\u001b[39;00m\n\u001b[0;32m    219\u001b[0m     msg \u001b[38;5;241m=\u001b[39m re\u001b[38;5;241m.\u001b[39msub(\n\u001b[0;32m    220\u001b[0m         \u001b[38;5;124mr\u001b[39m\u001b[38;5;124m\"\u001b[39m\u001b[38;5;124mparameter of \u001b[39m\u001b[38;5;124m\\\u001b[39m\u001b[38;5;124mw+ must be\u001b[39m\u001b[38;5;124m\"\u001b[39m,\n\u001b[0;32m    221\u001b[0m         \u001b[38;5;124mf\u001b[39m\u001b[38;5;124m\"\u001b[39m\u001b[38;5;124mparameter of \u001b[39m\u001b[38;5;132;01m{\u001b[39;00mfunc\u001b[38;5;241m.\u001b[39m\u001b[38;5;18m__qualname__\u001b[39m\u001b[38;5;132;01m}\u001b[39;00m\u001b[38;5;124m must be\u001b[39m\u001b[38;5;124m\"\u001b[39m,\n\u001b[0;32m    222\u001b[0m         \u001b[38;5;28mstr\u001b[39m(e),\n\u001b[0;32m    223\u001b[0m     )\n",
      "File \u001b[1;32m~\\AppData\\Local\\Programs\\Python\\Python310\\lib\\site-packages\\sklearn\\metrics\\_classification.py:2607\u001b[0m, in \u001b[0;36mclassification_report\u001b[1;34m(y_true, y_pred, labels, target_names, sample_weight, digits, output_dict, zero_division)\u001b[0m\n\u001b[0;32m   2604\u001b[0m y_type, y_true, y_pred \u001b[38;5;241m=\u001b[39m _check_targets(y_true, y_pred)\n\u001b[0;32m   2606\u001b[0m \u001b[38;5;28;01mif\u001b[39;00m labels \u001b[38;5;129;01mis\u001b[39;00m \u001b[38;5;28;01mNone\u001b[39;00m:\n\u001b[1;32m-> 2607\u001b[0m     labels \u001b[38;5;241m=\u001b[39m \u001b[43munique_labels\u001b[49m\u001b[43m(\u001b[49m\u001b[43my_true\u001b[49m\u001b[43m,\u001b[49m\u001b[43m \u001b[49m\u001b[43my_pred\u001b[49m\u001b[43m)\u001b[49m\n\u001b[0;32m   2608\u001b[0m     labels_given \u001b[38;5;241m=\u001b[39m \u001b[38;5;28;01mFalse\u001b[39;00m\n\u001b[0;32m   2609\u001b[0m \u001b[38;5;28;01melse\u001b[39;00m:\n",
      "File \u001b[1;32m~\\AppData\\Local\\Programs\\Python\\Python310\\lib\\site-packages\\sklearn\\utils\\multiclass.py:116\u001b[0m, in \u001b[0;36munique_labels\u001b[1;34m(*ys)\u001b[0m\n\u001b[0;32m    114\u001b[0m \u001b[38;5;66;03m# Check that we don't mix string type with number type\u001b[39;00m\n\u001b[0;32m    115\u001b[0m \u001b[38;5;28;01mif\u001b[39;00m \u001b[38;5;28mlen\u001b[39m(\u001b[38;5;28mset\u001b[39m(\u001b[38;5;28misinstance\u001b[39m(label, \u001b[38;5;28mstr\u001b[39m) \u001b[38;5;28;01mfor\u001b[39;00m label \u001b[38;5;129;01min\u001b[39;00m ys_labels)) \u001b[38;5;241m>\u001b[39m \u001b[38;5;241m1\u001b[39m:\n\u001b[1;32m--> 116\u001b[0m     \u001b[38;5;28;01mraise\u001b[39;00m \u001b[38;5;167;01mValueError\u001b[39;00m(\u001b[38;5;124m\"\u001b[39m\u001b[38;5;124mMix of label input types (string and number)\u001b[39m\u001b[38;5;124m\"\u001b[39m)\n\u001b[0;32m    118\u001b[0m \u001b[38;5;28;01mreturn\u001b[39;00m xp\u001b[38;5;241m.\u001b[39masarray(\u001b[38;5;28msorted\u001b[39m(ys_labels))\n",
      "\u001b[1;31mValueError\u001b[0m: Mix of label input types (string and number)"
     ]
    }
   ],
   "source": [
    "from sklearn.metrics import classification_report\n",
    "\n",
    "# Assuming 'y_test' contains the true labels and 'pred' contains the predicted labels\n",
    "report = classification_report(y_test, pred)\n",
    "\n",
    "# Print the classification report\n",
    "print(report)\n"
   ]
  },
  {
   "cell_type": "code",
   "execution_count": 16,
   "id": "848ae975",
   "metadata": {},
   "outputs": [
    {
     "name": "stdout",
     "output_type": "stream",
     "text": [
      "              precision    recall  f1-score   support\n",
      "\n",
      "     Coastal       0.38      1.00      0.55        30\n",
      "  Rayalseema       1.00      0.04      0.08        25\n",
      "   Telangana       0.00      0.00      0.00        25\n",
      "\n",
      "    accuracy                           0.39        80\n",
      "   macro avg       0.46      0.35      0.21        80\n",
      "weighted avg       0.45      0.39      0.23        80\n",
      "\n"
     ]
    },
    {
     "name": "stderr",
     "output_type": "stream",
     "text": [
      "C:\\Users\\Lavanya Tetakali\\AppData\\Local\\Programs\\Python\\Python310\\lib\\site-packages\\sklearn\\metrics\\_classification.py:1509: UndefinedMetricWarning: Precision is ill-defined and being set to 0.0 in labels with no predicted samples. Use `zero_division` parameter to control this behavior.\n",
      "  _warn_prf(average, modifier, f\"{metric.capitalize()} is\", len(result))\n",
      "C:\\Users\\Lavanya Tetakali\\AppData\\Local\\Programs\\Python\\Python310\\lib\\site-packages\\sklearn\\metrics\\_classification.py:1509: UndefinedMetricWarning: Precision is ill-defined and being set to 0.0 in labels with no predicted samples. Use `zero_division` parameter to control this behavior.\n",
      "  _warn_prf(average, modifier, f\"{metric.capitalize()} is\", len(result))\n",
      "C:\\Users\\Lavanya Tetakali\\AppData\\Local\\Programs\\Python\\Python310\\lib\\site-packages\\sklearn\\metrics\\_classification.py:1509: UndefinedMetricWarning: Precision is ill-defined and being set to 0.0 in labels with no predicted samples. Use `zero_division` parameter to control this behavior.\n",
      "  _warn_prf(average, modifier, f\"{metric.capitalize()} is\", len(result))\n"
     ]
    }
   ],
   "source": [
    "# Convert numeric labels in pred back to string labels\n",
    "pred_labels = label_encoder.inverse_transform(pred)\n",
    "\n",
    "# Now you can generate the classification report\n",
    "report = classification_report(y_test, pred_labels)\n",
    "\n",
    "# Print the classification report\n",
    "print(report)\n"
   ]
  }
 ],
 "metadata": {
  "kernelspec": {
   "display_name": "Python 3 (ipykernel)",
   "language": "python",
   "name": "python3"
  },
  "language_info": {
   "codemirror_mode": {
    "name": "ipython",
    "version": 3
   },
   "file_extension": ".py",
   "mimetype": "text/x-python",
   "name": "python",
   "nbconvert_exporter": "python",
   "pygments_lexer": "ipython3",
   "version": "3.10.7"
  }
 },
 "nbformat": 4,
 "nbformat_minor": 5
}
